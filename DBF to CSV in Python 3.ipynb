{
 "cells": [
  {
   "cell_type": "markdown",
   "metadata": {},
   "source": [
    "# DBF to CSV function\n",
    "Here is a simple function that can convert a single dbf file to csv format. \n",
    "\n",
    "Function makes use of the dbf read module which will input a dbf and output a csv file in the same location as the DBF files. \n",
    "\n",
    "Please note that not all DBF files can be read in Excel or the Statistical R Package, this the birth of this function. \n",
    "\n",
    "This function can also be mapped to several files in an interation. "
   ]
  },
  {
   "cell_type": "markdown",
   "metadata": {},
   "source": [
    "## Simple process\n",
    "import csv\n",
    "\n",
    "from dbfread import DBF\n",
    "\n",
    "Input a dbf, output a csv, same name, same path, except extension\n",
    "\n",
    "Set the csv file name\n",
    "\n",
    "Table variable is a DBF object\n",
    "\n",
    "Create a csv file, fill it with dbf content\n",
    "       \n",
    "Write the column name\n",
    "        \n",
    "Return the csv name and file"
   ]
  },
  {
   "cell_type": "code",
   "execution_count": null,
   "metadata": {},
   "outputs": [],
   "source": [
    "import csv\n",
    "from dbfread import DBF\n",
    "\n",
    "def dbf_to_csv(dbf_table_pth):#Input a dbf, output a csv, same name, same path, except extension\n",
    "    csv_fn = dbf_table_pth[:-4]+ \".csv\" #Set the csv file name\n",
    "    table = DBF(dbf_table_pth)# table variable is a DBF object\n",
    "    with open(csv_fn, 'w', newline = '') as f:# create a csv file, fill it with dbf content\n",
    "        writer = csv.writer(f)\n",
    "        writer.writerow(table.field_names)# write the column name\n",
    "        for record in table:# write the rows\n",
    "            writer.writerow(list(record.values()))\n",
    "    return csv_fn# return the csv name"
   ]
  }
 ],
 "metadata": {
  "kernelspec": {
   "display_name": "Python 3",
   "language": "python",
   "name": "python3"
  },
  "language_info": {
   "codemirror_mode": {
    "name": "ipython",
    "version": 3
   },
   "file_extension": ".py",
   "mimetype": "text/x-python",
   "name": "python",
   "nbconvert_exporter": "python",
   "pygments_lexer": "ipython3",
   "version": "3.7.0"
  }
 },
 "nbformat": 4,
 "nbformat_minor": 2
}
