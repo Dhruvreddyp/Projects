{
 "cells": [
  {
   "cell_type": "code",
   "execution_count": 1,
   "metadata": {},
   "outputs": [],
   "source": [
    "import csv\n",
    "from dbfread import DBF\n",
    "\n",
    "def dbf_to_csv(dbf_table_pth):#Input a dbf, output a csv, same name, same path, except extension\n",
    "    csv_fn = dbf_table_pth[:-4]+ \".csv\" #Set the csv file name\n",
    "    table = DBF(dbf_table_pth)# table variable is a DBF object\n",
    "    with open(csv_fn, 'w', newline = '') as f:# create a csv file, fill it with dbf content\n",
    "        writer = csv.writer(f)\n",
    "        writer.writerow(table.field_names)# write the column name\n",
    "        for record in table:# write the rows\n",
    "            writer.writerow(list(record.values()))\n",
    "    return csv_fn# return the csv name"
   ]
  },
  {
   "cell_type": "code",
   "execution_count": 2,
   "metadata": {},
   "outputs": [
    {
     "data": {
      "text/plain": [
       "'C:\\\\Users\\\\dhruv\\\\Desktop\\\\New folder\\\\IRID890.csv'"
      ]
     },
     "execution_count": 2,
     "metadata": {},
     "output_type": "execute_result"
    }
   ],
   "source": [
    "dbf_to_csv(r\"C:\\Users\\dhruv\\Desktop\\New folder\\IRID890.DBF\")"
   ]
  },
  {
   "cell_type": "code",
   "execution_count": null,
   "metadata": {},
   "outputs": [],
   "source": []
  }
 ],
 "metadata": {
  "kernelspec": {
   "display_name": "Python 3",
   "language": "python",
   "name": "python3"
  },
  "language_info": {
   "codemirror_mode": {
    "name": "ipython",
    "version": 3
   },
   "file_extension": ".py",
   "mimetype": "text/x-python",
   "name": "python",
   "nbconvert_exporter": "python",
   "pygments_lexer": "ipython3",
   "version": "3.7.0"
  }
 },
 "nbformat": 4,
 "nbformat_minor": 2
}
